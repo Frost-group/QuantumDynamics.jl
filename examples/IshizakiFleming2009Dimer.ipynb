{
 "cells": [
  {
   "cell_type": "code",
   "execution_count": 1,
   "metadata": {},
   "outputs": [],
   "source": [
    "using QuantumDynamics\n",
    "using Plots, LaTeXStrings"
   ]
  },
  {
   "cell_type": "code",
   "execution_count": 2,
   "metadata": {},
   "outputs": [
    {
     "data": {
      "text/plain": [
       "4.55634e-6"
      ]
     },
     "metadata": {},
     "output_type": "display_data"
    }
   ],
   "source": [
    "invcm2au = 4.55634e-6"
   ]
  },
  {
   "cell_type": "code",
   "execution_count": 3,
   "metadata": {},
   "outputs": [
    {
     "data": {
      "text/plain": [
       "2×2 Matrix{ComplexF64}:\n",
       " 0.000227817+0.0im   0.000455634+0.0im\n",
       " 0.000455634+0.0im  -0.000227817+0.0im"
      ]
     },
     "metadata": {},
     "output_type": "display_data"
    }
   ],
   "source": [
    "β = 1052.0\n",
    "dt = 200.0\n",
    "ntimes = 200\n",
    "H = [50+0.0im 100.0; 100.0 -50] .* invcm2au"
   ]
  },
  {
   "cell_type": "code",
   "execution_count": 4,
   "metadata": {},
   "outputs": [],
   "source": [
    "fbU = Propagators.calculate_bare_propagators(; Hamiltonian=H, ntimes, dt);"
   ]
  },
  {
   "cell_type": "code",
   "execution_count": 5,
   "metadata": {},
   "outputs": [
    {
     "data": {
      "text/plain": [
       "2×2 Matrix{ComplexF64}:\n",
       " 1.0+0.0im  0.0+0.0im\n",
       " 0.0+0.0im  0.0+0.0im"
      ]
     },
     "metadata": {},
     "output_type": "display_data"
    }
   ],
   "source": [
    "o1 = [1.0+0.0im 0.0; 0.0 0.0]\n",
    "o2 = [0.0+0.0im 0.0; 0.0 1.0]\n",
    "ρ0 = [1.0+0.0im 0.0; 0.0 0.0]"
   ]
  },
  {
   "cell_type": "markdown",
   "metadata": {},
   "source": [
    "# Figure 4b"
   ]
  },
  {
   "cell_type": "code",
   "execution_count": 6,
   "metadata": {},
   "outputs": [
    {
     "data": {
      "text/plain": [
       "QuantumDynamics.SpectralDensities.DrudeLorentz(9.11268e-5, 0.0002418505272, 1.0, 0.2418505272)"
      ]
     },
     "metadata": {},
     "output_type": "display_data"
    }
   ],
   "source": [
    "J1 = SpectralDensities.DrudeLorentz(; λ=20*invcm2au, γ=53.08*invcm2au, Δs=1.0)\n",
    "J2 = SpectralDensities.DrudeLorentz(; λ=20*invcm2au, γ=53.08*invcm2au, Δs=1.0)"
   ]
  },
  {
   "cell_type": "code",
   "execution_count": 7,
   "metadata": {},
   "outputs": [
    {
     "ename": "MethodError",
     "evalue": "MethodError: no method matching common_part(::StepRangeLen{Float64, Base.TwicePrecision{Float64}, Base.TwicePrecision{Float64}, Int64}, ::Vector{Float64}, ::Float64, ::Bool)\nClosest candidates are:\n  common_part(!Matched::AbstractVector{Real}, !Matched::Real, ::Real, ::Bool) at C:\\Users\\amart_nmcsh5d\\.julia\\dev\\QuantumDynamics\\src\\EtaCoefficients.jl:5",
     "output_type": "error",
     "traceback": [
      "MethodError: no method matching common_part(::StepRangeLen{Float64, Base.TwicePrecision{Float64}, Base.TwicePrecision{Float64}, Int64}, ::Vector{Float64}, ::Float64, ::Bool)\n",
      "Closest candidates are:\n",
      "  common_part(!Matched::AbstractVector{Real}, !Matched::Real, ::Real, ::Bool) at C:\\Users\\amart_nmcsh5d\\.julia\\dev\\QuantumDynamics\\src\\EtaCoefficients.jl:5\n",
      "\n",
      "Stacktrace:\n",
      " [1] calculate_η(ω::StepRangeLen{Float64, Base.TwicePrecision{Float64}, Base.TwicePrecision{Float64}, Int64}, sd::Vector{Float64}, β::Float64, dt::Float64, kmax::Int64, classical::Bool, imaginary_only::Bool, discrete::Bool)\n",
      "   @ QuantumDynamics.EtaCoefficients C:\\Users\\amart_nmcsh5d\\.julia\\dev\\QuantumDynamics\\src\\EtaCoefficients.jl:42\n",
      " [2] calculate_η(specdens::QuantumDynamics.SpectralDensities.DrudeLorentz; β::Float64, dt::Float64, kmax::Int64, classical::Bool, imaginary_only::Bool)\n",
      "   @ QuantumDynamics.EtaCoefficients C:\\Users\\amart_nmcsh5d\\.julia\\dev\\QuantumDynamics\\src\\EtaCoefficients.jl:67\n",
      " [3] #33\n",
      "   @ .\\none:0 [inlined]\n",
      " [4] iterate\n",
      "   @ .\\generator.jl:47 [inlined]\n",
      " [5] collect(itr::Base.Generator{Vector{QuantumDynamics.SpectralDensities.DrudeLorentz}, QuantumDynamics.TNPI.var\"#33#34\"{Float64, Float64, Int64, Int64, Bool}})\n",
      "   @ Base .\\array.jl:787\n",
      " [6] build_augmented_propagator(; fbU::Array{ComplexF64, 3}, Jw::Vector{QuantumDynamics.SpectralDensities.DrudeLorentz}, β::Float64, dt::Float64, ntimes::Int64, kmax::Int64, svec::Matrix{Float64}, reference_prop::Bool, extraargs::QuantumDynamics.TNPI.TNPIArgs, end_prop::Bool)\n",
      "   @ QuantumDynamics.TNPI C:\\Users\\amart_nmcsh5d\\.julia\\dev\\QuantumDynamics\\src\\TNPI.jl:279\n",
      " [7] #propagate#35\n",
      "   @ C:\\Users\\amart_nmcsh5d\\.julia\\dev\\QuantumDynamics\\src\\TNPI.jl:341 [inlined]\n",
      " [8] top-level scope\n",
      "   @ c:\\Users\\amart_nmcsh5d\\.julia\\dev\\QuantumDynamics\\examples\\IshizakiFleming2009Dimer.ipynb:1"
     ]
    }
   ],
   "source": [
    "times_TNPI, ρs_TNPI = TNPI.propagate(; fbU, ntimes, dt, β, ρ0, Jw=[J1, J2], svec=[1.0 0.0; 0.0 1.0], kmax=300)"
   ]
  },
  {
   "cell_type": "code",
   "execution_count": 8,
   "metadata": {},
   "outputs": [
    {
     "data": {
      "text/plain": [
       "([0.0, 200.0, 400.0, 600.0, 800.0, 1000.0, 1200.0, 1400.0, 1600.0, 1800.0  …  38200.0, 38400.0, 38600.0, 38800.0, 39000.0, 39200.0, 39400.0, 39600.0, 39800.0, 40000.0], [1.0 + 0.0im 0.0 + 0.0im; 0.9917358495989539 + 0.0im 0.0040954266269663565 - 0.09025877798133093im; … ; 0.40698835024958274 + 0.0im -0.17270299465475378 + 0.0004916587993215258im; 0.40712004896234266 + 0.0im -0.1733273103115845 + 0.0009360575155116358im;;; 0.0 + 0.0im 0.0 + 0.0im; 0.0040954266269663565 + 0.09025877798133093im 0.008264150401046132 + 0.0im; … ; -0.17270299465475378 - 0.0004916587993215258im 0.5930116497504159 + 0.0im; -0.1733273103115845 - 0.0009360575155116358im 0.5928799510376559 + 0.0im])"
      ]
     },
     "metadata": {},
     "output_type": "display_data"
    }
   ],
   "source": [
    "times_HEOM, ρs_HEOM = HEOM.propagate(; Hamiltonian=H, Jw=[J1, J2], sys_ops=[o1, o2], β, dt, ntimes, ρ0, num_modes=2, Lmax=6)"
   ]
  },
  {
   "cell_type": "code",
   "execution_count": 9,
   "metadata": {},
   "outputs": [
    {
     "ename": "UndefVarError",
     "evalue": "UndefVarError: times_TNPI not defined",
     "output_type": "error",
     "traceback": [
      "UndefVarError: times_TNPI not defined\n",
      "\n",
      "Stacktrace:\n",
      " [1] top-level scope\n",
      "   @ c:\\Users\\amart_nmcsh5d\\.julia\\dev\\QuantumDynamics\\examples\\IshizakiFleming2009Dimer.ipynb:2"
     ]
    }
   ],
   "source": [
    "plot(times_HEOM .* 0.02418884, real.(ρs_HEOM[:,1,1]), lw=2, label=\"HEOM\")\n",
    "plot!(times_TNPI .* 0.02418884, real.(ρs_TNPI[:,1,1]), lw=2, label=\"TNPI\")"
   ]
  },
  {
   "cell_type": "markdown",
   "metadata": {},
   "source": [
    "# Figure 4c"
   ]
  },
  {
   "cell_type": "code",
   "execution_count": 10,
   "metadata": {},
   "outputs": [
    {
     "data": {
      "text/plain": [
       "QuantumDynamics.SpectralDensities.DrudeLorentz(0.000455634, 0.0002418505272, 1.0, 0.2418505272)"
      ]
     },
     "metadata": {},
     "output_type": "display_data"
    }
   ],
   "source": [
    "J1 = SpectralDensities.DrudeLorentz(; λ=100*invcm2au, γ=53.08*invcm2au, Δs=1.0)\n",
    "J2 = SpectralDensities.DrudeLorentz(; λ=100*invcm2au, γ=53.08*invcm2au, Δs=1.0)"
   ]
  },
  {
   "cell_type": "code",
   "execution_count": 11,
   "metadata": {},
   "outputs": [
    {
     "ename": "MethodError",
     "evalue": "MethodError: no method matching common_part(::StepRangeLen{Float64, Base.TwicePrecision{Float64}, Base.TwicePrecision{Float64}, Int64}, ::Vector{Float64}, ::Float64, ::Bool)\nClosest candidates are:\n  common_part(!Matched::AbstractVector{Real}, !Matched::Real, ::Real, ::Bool) at C:\\Users\\amart_nmcsh5d\\.julia\\dev\\QuantumDynamics\\src\\EtaCoefficients.jl:5",
     "output_type": "error",
     "traceback": [
      "MethodError: no method matching common_part(::StepRangeLen{Float64, Base.TwicePrecision{Float64}, Base.TwicePrecision{Float64}, Int64}, ::Vector{Float64}, ::Float64, ::Bool)\n",
      "Closest candidates are:\n",
      "  common_part(!Matched::AbstractVector{Real}, !Matched::Real, ::Real, ::Bool) at C:\\Users\\amart_nmcsh5d\\.julia\\dev\\QuantumDynamics\\src\\EtaCoefficients.jl:5\n",
      "\n",
      "Stacktrace:\n",
      " [1] calculate_η(ω::StepRangeLen{Float64, Base.TwicePrecision{Float64}, Base.TwicePrecision{Float64}, Int64}, sd::Vector{Float64}, β::Float64, dt::Float64, kmax::Int64, classical::Bool, imaginary_only::Bool, discrete::Bool)\n",
      "   @ QuantumDynamics.EtaCoefficients C:\\Users\\amart_nmcsh5d\\.julia\\dev\\QuantumDynamics\\src\\EtaCoefficients.jl:42\n",
      " [2] calculate_η(specdens::QuantumDynamics.SpectralDensities.DrudeLorentz; β::Float64, dt::Float64, kmax::Int64, classical::Bool, imaginary_only::Bool)\n",
      "   @ QuantumDynamics.EtaCoefficients C:\\Users\\amart_nmcsh5d\\.julia\\dev\\QuantumDynamics\\src\\EtaCoefficients.jl:67\n",
      " [3] #33\n",
      "   @ .\\none:0 [inlined]\n",
      " [4] iterate\n",
      "   @ .\\generator.jl:47 [inlined]\n",
      " [5] collect(itr::Base.Generator{Vector{QuantumDynamics.SpectralDensities.DrudeLorentz}, QuantumDynamics.TNPI.var\"#33#34\"{Float64, Float64, Int64, Int64, Bool}})\n",
      "   @ Base .\\array.jl:787\n",
      " [6] build_augmented_propagator(; fbU::Array{ComplexF64, 3}, Jw::Vector{QuantumDynamics.SpectralDensities.DrudeLorentz}, β::Float64, dt::Float64, ntimes::Int64, kmax::Int64, svec::Matrix{Float64}, reference_prop::Bool, extraargs::QuantumDynamics.TNPI.TNPIArgs, end_prop::Bool)\n",
      "   @ QuantumDynamics.TNPI C:\\Users\\amart_nmcsh5d\\.julia\\dev\\QuantumDynamics\\src\\TNPI.jl:279\n",
      " [7] #propagate#35\n",
      "   @ C:\\Users\\amart_nmcsh5d\\.julia\\dev\\QuantumDynamics\\src\\TNPI.jl:341 [inlined]\n",
      " [8] top-level scope\n",
      "   @ c:\\Users\\amart_nmcsh5d\\.julia\\dev\\QuantumDynamics\\examples\\IshizakiFleming2009Dimer.ipynb:1"
     ]
    }
   ],
   "source": [
    "times_TNPI, ρs_TNPI = TNPI.propagate(; fbU, ntimes, dt, β, ρ0, Jw=[J1, J2], svec=[1.0 0.0; 0.0 1.0], kmax=300)"
   ]
  },
  {
   "cell_type": "code",
   "execution_count": 12,
   "metadata": {},
   "outputs": [
    {
     "data": {
      "text/plain": [
       "([0.0, 200.0, 400.0, 600.0, 800.0, 1000.0, 1200.0, 1400.0, 1600.0, 1800.0  …  38200.0, 38400.0, 38600.0, 38800.0, 39000.0, 39200.0, 39400.0, 39600.0, 39800.0, 40000.0], [1.0 + 0.0im 0.0 + 0.0im; 0.9917805082593008 + 0.0im 0.003928405403275599 - 0.08931473934178356im; … ; 0.3908930652620197 + 0.0im -0.18985346000965728 - 0.0002437813845367719im; 0.3908492126795399 + 0.0im -0.18987500181747868 - 0.000237471667731799im;;; 0.0 + 0.0im 0.0 + 0.0im; 0.003928405403275599 + 0.08931473934178356im 0.008219491740699527 + 0.0im; … ; -0.18985346000965728 + 0.0002437813845367719im 0.6091069347379815 + 0.0im; -0.18987500181747868 + 0.000237471667731799im 0.6091507873204612 + 0.0im])"
      ]
     },
     "metadata": {},
     "output_type": "display_data"
    }
   ],
   "source": [
    "times_HEOM, ρs_HEOM = HEOM.propagate(; Hamiltonian=H, Jw=[J1, J2], sys_ops=[o1, o2], β, dt, ntimes, ρ0, num_modes=2, Lmax=6)"
   ]
  },
  {
   "cell_type": "code",
   "execution_count": 13,
   "metadata": {},
   "outputs": [
    {
     "ename": "UndefVarError",
     "evalue": "UndefVarError: times_TNPI not defined",
     "output_type": "error",
     "traceback": [
      "UndefVarError: times_TNPI not defined\n",
      "\n",
      "Stacktrace:\n",
      " [1] top-level scope\n",
      "   @ c:\\Users\\amart_nmcsh5d\\.julia\\dev\\QuantumDynamics\\examples\\IshizakiFleming2009Dimer.ipynb:2"
     ]
    }
   ],
   "source": [
    "plot(times_HEOM .* 0.02418884, real.(ρs_HEOM[:,1,1]), lw=2, label=\"HEOM\")\n",
    "plot!(times_TNPI .* 0.02418884, real.(ρs_TNPI[:,1,1]), lw=2, label=\"TNPI\")"
   ]
  },
  {
   "cell_type": "code",
   "execution_count": null,
   "metadata": {},
   "outputs": [],
   "source": []
  }
 ],
 "metadata": {
  "@webio": {
   "lastCommId": null,
   "lastKernelId": null
  },
  "kernelspec": {
   "display_name": "Julia 1.8.5",
   "language": "julia",
   "name": "julia-1.8"
  },
  "language_info": {
   "file_extension": ".jl",
   "mimetype": "application/julia",
   "name": "julia",
   "version": "1.8.5"
  }
 },
 "nbformat": 4,
 "nbformat_minor": 2
}
